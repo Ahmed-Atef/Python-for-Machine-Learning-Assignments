{
 "cells": [
  {
   "cell_type": "markdown",
   "metadata": {},
   "source": [
    "# Exercise Sheet 1: Python Basics\n",
    "\n",
    "This first  exercise sheet tests the basic functionalities of the Python programming language in the context of a simple prediction task. We consider the problem of predicting health risk of subjects from personal data and habits. We first use for this task a decision tree\n",
    "\n",
    "![](tree.png)\n",
    "\n",
    "adapted from the webpage http://www.refactorthis.net/post/2013/04/10/Machine-Learning-tutorial-How-to-create-a-decision-tree-in-RapidMiner-using-the-Titanic-passenger-data-set.aspx. For this exercise sheet, you are required to use only pure Python, and to not import any module, including numpy. In exercise sheet 2, the nearest neighbor part of this exercise sheet will be revisited with numpy."
   ]
  },
  {
   "cell_type": "markdown",
   "metadata": {},
   "source": [
    "## Classifying a single instance (15 P)\n",
    "\n",
    "* Create a function that takes as input a tuple containing values for attributes (smoker,age,diet), and computes the output of the decision tree.\n",
    "* Test your function on the tuple `('yes',31,'good')`,"
   ]
  },
  {
   "cell_type": "code",
   "execution_count": 27,
   "metadata": {},
   "outputs": [
    {
     "data": {
      "text/plain": [
       "'more risk'"
      ]
     },
     "execution_count": 27,
     "metadata": {},
     "output_type": "execute_result"
    }
   ],
   "source": [
    "def classify(x):\n",
    "    dec = ''\n",
    "    if (x[0] == 'yes' and x[1] > 29.5) or (x[0] == 'no' and x[2] == 'poor'):\n",
    "        dec = 'more risk'\n",
    "    else:\n",
    "        dec = 'less risk'\n",
    "    \n",
    "    return dec\n",
    "\n",
    "classify(('yes',31,'good'))"
   ]
  },
  {
   "cell_type": "markdown",
   "metadata": {},
   "source": [
    "## Reading a dataset from a text file (10 P)\n",
    "\n",
    "The file `health-test.txt` contains several fictious records of personal data and habits.\n",
    "\n",
    "* Read the file automatically using the methods introduced during the lecture.\n",
    "* Represent the dataset as a list of tuples."
   ]
  },
  {
   "cell_type": "code",
   "execution_count": 20,
   "metadata": {
    "scrolled": true
   },
   "outputs": [
    {
     "data": {
      "text/plain": [
       "[('yes', 21.0, 'poor'),\n",
       " ('no', 50.0, 'good'),\n",
       " ('no', 23.0, 'good'),\n",
       " ('yes', 45.0, 'poor'),\n",
       " ('yes', 51.0, 'good'),\n",
       " ('no', 60.0, 'good'),\n",
       " ('no', 15.0, 'poor'),\n",
       " ('no', 18.0, 'good')]"
      ]
     },
     "execution_count": 20,
     "metadata": {},
     "output_type": "execute_result"
    }
   ],
   "source": [
    "Data = []\n",
    "for line in open('health-test.txt','r'):\n",
    "    temp = str.split(line,',')\n",
    "    Data.append( ( temp[0],float(temp[1]),temp[2].rstrip('\\n') ) )\n",
    "Data"
   ]
  },
  {
   "cell_type": "markdown",
   "metadata": {},
   "source": [
    "## Applying the decision tree to the dataset (15 P)\n",
    "\n",
    "* Apply the decision tree to all points in the dataset, and compute the percentage of them that are classified as \"more risk\"."
   ]
  },
  {
   "cell_type": "code",
   "execution_count": 40,
   "metadata": {},
   "outputs": [
    {
     "name": "stdout",
     "output_type": "stream",
     "text": [
      "37.5 %\n"
     ]
    }
   ],
   "source": [
    "n = len(Data)\n",
    "sum([classify(x)=='more risk' for x in Data])\n",
    "percentage = float(r)/float(n)*100\n",
    "print percentage,\"%\""
   ]
  },
  {
   "cell_type": "markdown",
   "metadata": {},
   "source": [
    "## Learning from examples (10 P)\n",
    "\n",
    "Suppose that instead of relying on a fixed decision tree, we would like to use a data-driven approach where data points are classified based on a set of training observations manually labeled by experts. Such labeled dataset is available in the file `health-train.txt`. The first three columns have the same meaning than for `health-test.txt`, and the last column corresponds to the labels.\n",
    "\n",
    "* Write a procedure that reads this file and converts it into a list of pairs. The first element of each pair is a triplet of attributes, and the second element is the label."
   ]
  },
  {
   "cell_type": "code",
   "execution_count": 54,
   "metadata": {},
   "outputs": [
    {
     "data": {
      "text/plain": [
       "[(('yes', 54.0, 'good'), 'less'),\n",
       " (('no', 55.0, 'good'), 'less'),\n",
       " (('no', 26.0, 'good'), 'less'),\n",
       " (('yes', 40.0, 'good'), 'more'),\n",
       " (('yes', 25.0, 'poor'), 'less'),\n",
       " (('no', 13.0, 'poor'), 'more'),\n",
       " (('no', 15.0, 'good'), 'less'),\n",
       " (('no', 50.0, 'poor'), 'more'),\n",
       " (('yes', 33.0, 'good'), 'more'),\n",
       " (('no', 35.0, 'good'), 'less'),\n",
       " (('no', 41.0, 'good'), 'less'),\n",
       " (('yes', 30.0, 'poor'), 'more'),\n",
       " (('no', 39.0, 'poor'), 'more'),\n",
       " (('no', 20.0, 'good'), 'less'),\n",
       " (('yes', 18.0, 'poor'), 'less'),\n",
       " (('yes', 55.0, 'good'), 'more')]"
      ]
     },
     "execution_count": 54,
     "metadata": {},
     "output_type": "execute_result"
    }
   ],
   "source": [
    "Dtrain = []\n",
    "for line in open('health-train.txt','r'):\n",
    "    temp = str.split(line,',')\n",
    "    Dtrain.append( (( temp[0],float(temp[1]),temp[2]),temp[3].rstrip('\\n') ) )\n",
    "\n",
    "Dtrain"
   ]
  },
  {
   "cell_type": "markdown",
   "metadata": {},
   "source": [
    "## Nearest neighbor classifier (25 P)\n",
    "\n",
    "We consider the nearest neighbor algorithm that classifies test points following the label of the nearest neighbor in the training data. For this, we need to define a distance function between data points. We define it to be\n",
    "\n",
    "`d(a,b) = (a[0]!=b[0])+((a[1]-b[1])/50.0)**2+(a[2]!=b[2])`\n",
    "\n",
    "where `a` and `b` are two tuples corrsponding to the attributes of two data points.\n",
    "\n",
    "* Write a function that retrieves for a test point the nearest neighbor in the training set, and classifies the test point accordingly.\n",
    "* Test your function on the tuple `('yes',31,'good')`"
   ]
  },
  {
   "cell_type": "code",
   "execution_count": 83,
   "metadata": {},
   "outputs": [
    {
     "name": "stdout",
     "output_type": "stream",
     "text": [
      "The nearest Neighbour is ('yes', 33.0, 'good') with distance 0.0016\n",
      "The prediction is  more  risk\n"
     ]
    }
   ],
   "source": [
    "import sys\n",
    "def nnclassify(x):\n",
    "    ndistance = sys.maxsize\n",
    "    nn = ''  \n",
    "    for i in Dtrain:\n",
    "        train = i[0]\n",
    "        d = (x[0]!=train[0])+((x[1]-train[1])/50.0)**2+(x[2]!=train[2])\n",
    "        if(ndistance > d):\n",
    "            ndistance = d\n",
    "            nn = i\n",
    "    \n",
    "    return nn,ndistance\n",
    "\n",
    "    \n",
    "a,d = nnclassify(('yes',31,'good'))\n",
    "print 'The nearest Neighbour is',a[0] ,'with distance',d\n",
    "print 'The prediction is ',a[1],' risk'"
   ]
  },
  {
   "cell_type": "markdown",
   "metadata": {},
   "source": [
    "* Apply both the decision tree and nearest neighbor classifiers on the test set, and find the data point(s) for which the two classifiers disagree, and with which probability it happens."
   ]
  },
  {
   "cell_type": "code",
   "execution_count": 87,
   "metadata": {},
   "outputs": [
    {
     "name": "stdout",
     "output_type": "stream",
     "text": [
      "more risk less risk (('yes', 54.0, 'good'), 'less')\n",
      "Data points that disagree  [('yes', 51.0, 'good')]\n",
      "Probability  0.125\n"
     ]
    }
   ],
   "source": [
    "Different = []\n",
    "n = len(Data)\n",
    "c = 0\n",
    "for i in Data:\n",
    "    first = classify(i)\n",
    "    nn,nd= nnclassify(i)\n",
    "    second = nn[1]+' risk'\n",
    "    if(first != second):\n",
    "        Different.append(i)\n",
    "        print nn,\n",
    "        c+=1\n",
    "print 'Data points that disagree ',Different\n",
    "print 'Probability ', float(c)/float(n)"
   ]
  },
  {
   "cell_type": "markdown",
   "metadata": {},
   "source": [
    "One problem of simple nearest neighbors is that one needs to compare the point to predict to all data points in the training set. This can be slow for datasets of thousands of points or more. Alternatively, some classifiers train a model first, and then use it to classify the data.\n",
    "\n",
    "## Nearest mean classifier (25 P)\n",
    "\n",
    "We consider one such trainable model, which operates in two steps:\n",
    "\n",
    "(1) Compute the average point for each class, (2) classify new points to be of the class whose average point is nearest to the point to predict.\n",
    "\n",
    "For this classifier, we convert the attributes smoker and diet to real values (for smoker: yes=1.0 and no=0.0, and for diet: good=0.0 and poor=1.0), and use the modified distance function:\n",
    "\n",
    "`d(a,b) = (a[0]-b[0])**2+((a[1]-b[1])/50.0)**2+(a[2]-b[2])**2`\n",
    "\n",
    "We adopt an object-oriented approach for building this classifier.\n",
    "\n",
    "* Implement the methods `train` and `predict` of the class `NearestMeanClassifier`."
   ]
  },
  {
   "cell_type": "code",
   "execution_count": null,
   "metadata": {
    "collapsed": true
   },
   "outputs": [],
   "source": [
    "class NearestMeanClassifier:\n",
    "    \n",
    "    # Training method that takes as input a dataset\n",
    "    # and produces two internal vectors corresponding\n",
    "    # to the mean of each class.\n",
    "    def train(self,dataset):\n",
    "        ### Replace by your own code\n",
    "        pass\n",
    "        ###\n",
    "    \n",
    "    # Prediction method that takes as input a new data\n",
    "    # point and predicts it to belong to the class with\n",
    "    # nearest mean.\n",
    "    def predict(self,x):\n",
    "        ### Replace by your own code\n",
    "        pass\n",
    "        ###"
   ]
  },
  {
   "cell_type": "markdown",
   "metadata": {},
   "source": [
    "* Build an object of class `NearestMeanClassifier`, train it on the training data, and print the mean vector for each class."
   ]
  },
  {
   "cell_type": "code",
   "execution_count": null,
   "metadata": {},
   "outputs": [],
   "source": [
    "### Replace by your own code\n",
    "import solutions\n",
    "solutions.exercise6a()\n",
    "###"
   ]
  },
  {
   "cell_type": "markdown",
   "metadata": {},
   "source": [
    "* Predict the test data using the nearest mean classifier and print all test examples for which all three classifiers (decision tree, nearest neighbor and nearest mean) agree."
   ]
  },
  {
   "cell_type": "code",
   "execution_count": null,
   "metadata": {},
   "outputs": [],
   "source": [
    "### Replace by your own code\n",
    "import solutions\n",
    "solutions.exercise6b()\n",
    "###"
   ]
  }
 ],
 "metadata": {
  "kernelspec": {
   "display_name": "Python 2",
   "language": "python",
   "name": "python2"
  },
  "language_info": {
   "codemirror_mode": {
    "name": "ipython",
    "version": 2
   },
   "file_extension": ".py",
   "mimetype": "text/x-python",
   "name": "python",
   "nbconvert_exporter": "python",
   "pygments_lexer": "ipython2",
   "version": "2.7.13"
  }
 },
 "nbformat": 4,
 "nbformat_minor": 1
}
